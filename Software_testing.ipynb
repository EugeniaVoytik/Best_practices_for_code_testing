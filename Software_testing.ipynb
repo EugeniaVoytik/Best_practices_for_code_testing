{
 "cells": [
  {
   "cell_type": "markdown",
   "id": "d81c3d6e",
   "metadata": {
    "slideshow": {
     "slide_type": "slide"
    }
   },
   "source": [
    "<img src=\"https://i.gyazo.com/8f5061f6b9a3b885463ce6c283d9cfee.png\" width=\"1400\" height=\"600\" align='center'/>"
   ]
  },
  {
   "cell_type": "code",
   "execution_count": null,
   "id": "8b19e8c7",
   "metadata": {},
   "outputs": [],
   "source": [
    "#!pip install numpy pandas pytest pdb ipytest"
   ]
  },
  {
   "cell_type": "markdown",
   "id": "a6db1ba6",
   "metadata": {
    "slideshow": {
     "slide_type": "slide"
    }
   },
   "source": [
    "## Exceptions in Python"
   ]
  },
  {
   "cell_type": "code",
   "execution_count": 1,
   "id": "e3a399c1",
   "metadata": {
    "slideshow": {
     "slide_type": "subslide"
    }
   },
   "outputs": [],
   "source": [
    "a = 1\n",
    "b = 'stringtest'"
   ]
  },
  {
   "cell_type": "code",
   "execution_count": 2,
   "id": "7c992ab4",
   "metadata": {
    "slideshow": {
     "slide_type": "fragment"
    }
   },
   "outputs": [
    {
     "name": "stdout",
     "output_type": "stream",
     "text": [
      "<class 'int'>\n",
      "<class 'str'>\n"
     ]
    }
   ],
   "source": [
    "print(type(a))\n",
    "print(type(b))"
   ]
  },
  {
   "cell_type": "code",
   "execution_count": 3,
   "id": "558496e7",
   "metadata": {
    "slideshow": {
     "slide_type": "fragment"
    }
   },
   "outputs": [
    {
     "name": "stdout",
     "output_type": "stream",
     "text": [
      "<class 'ValueError'>\n"
     ]
    }
   ],
   "source": [
    "c = ValueError() \n",
    "print(type(c))"
   ]
  },
  {
   "attachments": {},
   "cell_type": "markdown",
   "id": "1a02fc6f",
   "metadata": {
    "slideshow": {
     "slide_type": "slide"
    }
   },
   "source": [
    "## The Python Exception Class Hierarchy\n",
    "\n",
    "<img src=\"https://i.gyazo.com/6c361982e1d72df6d226daec076c4aab.png\" width=\"1200\" height=\"600\" />"
   ]
  },
  {
   "cell_type": "markdown",
   "id": "122360a1",
   "metadata": {
    "slideshow": {
     "slide_type": "slide"
    }
   },
   "source": [
    "## Raising exceptions"
   ]
  },
  {
   "cell_type": "code",
   "execution_count": 4,
   "id": "438431c8",
   "metadata": {
    "slideshow": {
     "slide_type": "fragment"
    }
   },
   "outputs": [
    {
     "ename": "ValueError",
     "evalue": "",
     "output_type": "error",
     "traceback": [
      "\u001b[0;31m---------------------------------------------------------------------------\u001b[0m",
      "\u001b[0;31mValueError\u001b[0m                                Traceback (most recent call last)",
      "\u001b[0;32m/var/folders/rf/jnkv3x4d1_10ccxmsknwnc100000gn/T/ipykernel_4832/4096975414.py\u001b[0m in \u001b[0;36m<module>\u001b[0;34m\u001b[0m\n\u001b[0;32m----> 1\u001b[0;31m \u001b[0;32mraise\u001b[0m \u001b[0mValueError\u001b[0m\u001b[0;34m\u001b[0m\u001b[0;34m\u001b[0m\u001b[0m\n\u001b[0m",
      "\u001b[0;31mValueError\u001b[0m: "
     ]
    }
   ],
   "source": [
    "raise ValueError"
   ]
  },
  {
   "cell_type": "code",
   "execution_count": 5,
   "id": "ead5f87e",
   "metadata": {
    "slideshow": {
     "slide_type": "subslide"
    }
   },
   "outputs": [],
   "source": [
    "def check_software(software):\n",
    "    if software == 'maxquant':\n",
    "        print('MaxQuant is used for the data analysis.')\n",
    "    elif software == 'spectronaut':\n",
    "        print('Spectronaut is used for the data analysis.')"
   ]
  },
  {
   "cell_type": "code",
   "execution_count": 6,
   "id": "56d7cf5e",
   "metadata": {
    "slideshow": {
     "slide_type": "fragment"
    }
   },
   "outputs": [
    {
     "name": "stdout",
     "output_type": "stream",
     "text": [
      "MaxQuant is used for the data analysis.\n"
     ]
    }
   ],
   "source": [
    "check_software('maxquant')"
   ]
  },
  {
   "cell_type": "code",
   "execution_count": 8,
   "id": "2d0c9f72",
   "metadata": {
    "slideshow": {
     "slide_type": "fragment"
    }
   },
   "outputs": [
    {
     "name": "stdout",
     "output_type": "stream",
     "text": [
      "None\n"
     ]
    }
   ],
   "source": [
    "print(check_software('diann'))"
   ]
  },
  {
   "cell_type": "code",
   "execution_count": 9,
   "id": "c55337f5",
   "metadata": {
    "slideshow": {
     "slide_type": "subslide"
    }
   },
   "outputs": [],
   "source": [
    "def check_software(software):\n",
    "    if software == 'maxquant':\n",
    "        print('MaxQuant is used for the data analysis.')\n",
    "    elif software == 'spectronaut':\n",
    "        print('Spectronaut is used for the data analysis.')\n",
    "    else: \n",
    "        raise ValueError(f'{software.capitalize()} software is not implemented. Please choose another software tool.')"
   ]
  },
  {
   "cell_type": "code",
   "execution_count": 10,
   "id": "41f508eb",
   "metadata": {
    "slideshow": {
     "slide_type": "fragment"
    }
   },
   "outputs": [
    {
     "ename": "ValueError",
     "evalue": "Diann software is not implemented. Please choose another software tool.",
     "output_type": "error",
     "traceback": [
      "\u001b[0;31m---------------------------------------------------------------------------\u001b[0m",
      "\u001b[0;31mValueError\u001b[0m                                Traceback (most recent call last)",
      "\u001b[0;32m/var/folders/rf/jnkv3x4d1_10ccxmsknwnc100000gn/T/ipykernel_4832/1133045165.py\u001b[0m in \u001b[0;36m<module>\u001b[0;34m\u001b[0m\n\u001b[0;32m----> 1\u001b[0;31m \u001b[0mcheck_software\u001b[0m\u001b[0;34m(\u001b[0m\u001b[0;34m'diann'\u001b[0m\u001b[0;34m)\u001b[0m\u001b[0;34m\u001b[0m\u001b[0;34m\u001b[0m\u001b[0m\n\u001b[0m",
      "\u001b[0;32m/var/folders/rf/jnkv3x4d1_10ccxmsknwnc100000gn/T/ipykernel_4832/2609083517.py\u001b[0m in \u001b[0;36mcheck_software\u001b[0;34m(software)\u001b[0m\n\u001b[1;32m      5\u001b[0m         \u001b[0mprint\u001b[0m\u001b[0;34m(\u001b[0m\u001b[0;34m'Spectronaut is used for the data analysis.'\u001b[0m\u001b[0;34m)\u001b[0m\u001b[0;34m\u001b[0m\u001b[0;34m\u001b[0m\u001b[0m\n\u001b[1;32m      6\u001b[0m     \u001b[0;32melse\u001b[0m\u001b[0;34m:\u001b[0m\u001b[0;34m\u001b[0m\u001b[0;34m\u001b[0m\u001b[0m\n\u001b[0;32m----> 7\u001b[0;31m         \u001b[0;32mraise\u001b[0m \u001b[0mValueError\u001b[0m\u001b[0;34m(\u001b[0m\u001b[0;34mf'{software.capitalize()} software is not implemented. Please choose another software tool.'\u001b[0m\u001b[0;34m)\u001b[0m\u001b[0;34m\u001b[0m\u001b[0;34m\u001b[0m\u001b[0m\n\u001b[0m",
      "\u001b[0;31mValueError\u001b[0m: Diann software is not implemented. Please choose another software tool."
     ]
    }
   ],
   "source": [
    "check_software('diann')"
   ]
  },
  {
   "cell_type": "code",
   "execution_count": 11,
   "id": "b8082e14",
   "metadata": {
    "slideshow": {
     "slide_type": "subslide"
    }
   },
   "outputs": [
    {
     "ename": "KeyError",
     "evalue": "'date'",
     "output_type": "error",
     "traceback": [
      "\u001b[0;31m---------------------------------------------------------------------------\u001b[0m",
      "\u001b[0;31mKeyError\u001b[0m                                  Traceback (most recent call last)",
      "\u001b[0;32m/var/folders/rf/jnkv3x4d1_10ccxmsknwnc100000gn/T/ipykernel_4832/2032967553.py\u001b[0m in \u001b[0;36m<module>\u001b[0;34m\u001b[0m\n\u001b[1;32m      1\u001b[0m \u001b[0mexperiment_info\u001b[0m \u001b[0;34m=\u001b[0m \u001b[0;34m{\u001b[0m\u001b[0;34m\"experiment\"\u001b[0m\u001b[0;34m:\u001b[0m \u001b[0;34m\"\"\u001b[0m\u001b[0;34m,\u001b[0m \u001b[0;34m\"description\"\u001b[0m\u001b[0;34m:\u001b[0m \u001b[0;34m\"\"\u001b[0m\u001b[0;34m}\u001b[0m\u001b[0;34m\u001b[0m\u001b[0;34m\u001b[0m\u001b[0m\n\u001b[0;32m----> 2\u001b[0;31m \u001b[0mexperiment_info\u001b[0m\u001b[0;34m[\u001b[0m\u001b[0;34m\"date\"\u001b[0m\u001b[0;34m]\u001b[0m\u001b[0;34m\u001b[0m\u001b[0;34m\u001b[0m\u001b[0m\n\u001b[0m\u001b[1;32m      3\u001b[0m \u001b[0;34m\u001b[0m\u001b[0m\n\u001b[1;32m      4\u001b[0m \u001b[0mprint\u001b[0m\u001b[0;34m(\u001b[0m\u001b[0;34m'end'\u001b[0m\u001b[0;34m)\u001b[0m\u001b[0;34m\u001b[0m\u001b[0;34m\u001b[0m\u001b[0m\n",
      "\u001b[0;31mKeyError\u001b[0m: 'date'"
     ]
    }
   ],
   "source": [
    "experiment_info = {\"experiment\": \"\", \"description\": \"\"}  \n",
    "experiment_info[\"date\"] \n",
    "\n",
    "print('end')"
   ]
  },
  {
   "cell_type": "markdown",
   "id": "525dfc94",
   "metadata": {
    "slideshow": {
     "slide_type": "slide"
    }
   },
   "source": [
    "### Catching exceptions\n",
    "<img src=\"https://files.realpython.com/media/try_except_else_finally.a7fac6c36c55.png\" width=\"1000\" height=\"600\" align='center'/>"
   ]
  },
  {
   "cell_type": "code",
   "execution_count": 12,
   "id": "4d3290df",
   "metadata": {
    "slideshow": {
     "slide_type": "subslide"
    }
   },
   "outputs": [
    {
     "ename": "KeyError",
     "evalue": "'date'",
     "output_type": "error",
     "traceback": [
      "\u001b[0;31m---------------------------------------------------------------------------\u001b[0m",
      "\u001b[0;31mKeyError\u001b[0m                                  Traceback (most recent call last)",
      "\u001b[0;32m/var/folders/rf/jnkv3x4d1_10ccxmsknwnc100000gn/T/ipykernel_4832/2782603123.py\u001b[0m in \u001b[0;36m<module>\u001b[0;34m\u001b[0m\n\u001b[1;32m      1\u001b[0m \u001b[0mexperiment_info\u001b[0m \u001b[0;34m=\u001b[0m \u001b[0;34m{\u001b[0m\u001b[0;34m\"experiment\"\u001b[0m\u001b[0;34m:\u001b[0m \u001b[0;34m\"exp1\"\u001b[0m\u001b[0;34m,\u001b[0m \u001b[0;34m\"description\"\u001b[0m\u001b[0;34m:\u001b[0m \u001b[0;34m\"Phospho project\"\u001b[0m\u001b[0;34m}\u001b[0m\u001b[0;34m\u001b[0m\u001b[0;34m\u001b[0m\u001b[0m\n\u001b[0;32m----> 2\u001b[0;31m \u001b[0mexperiment_info\u001b[0m\u001b[0;34m[\u001b[0m\u001b[0;34m\"date\"\u001b[0m\u001b[0;34m]\u001b[0m\u001b[0;34m\u001b[0m\u001b[0;34m\u001b[0m\u001b[0m\n\u001b[0m\u001b[1;32m      3\u001b[0m \u001b[0mprint\u001b[0m\u001b[0;34m(\u001b[0m\u001b[0;34m'end'\u001b[0m\u001b[0;34m)\u001b[0m\u001b[0;34m\u001b[0m\u001b[0;34m\u001b[0m\u001b[0m\n",
      "\u001b[0;31mKeyError\u001b[0m: 'date'"
     ]
    }
   ],
   "source": [
    "experiment_info = {\"experiment\": \"exp1\", \"description\": \"Phospho project\"}  \n",
    "experiment_info[\"date\"] \n",
    "print('end')"
   ]
  },
  {
   "cell_type": "code",
   "execution_count": 13,
   "id": "5c17d5ed",
   "metadata": {
    "slideshow": {
     "slide_type": "subslide"
    }
   },
   "outputs": [
    {
     "name": "stdout",
     "output_type": "stream",
     "text": [
      "Oops, key not found\n",
      "End of the program\n"
     ]
    }
   ],
   "source": [
    "experiment_info = {\"experiment\": \"exp1\", \"description\": \"Phospho project\"}  \n",
    "try:\n",
    "    experiment_info[\"date\"] \n",
    "except:\n",
    "    print('Oops, key not found')\n",
    "print('End of the program')"
   ]
  },
  {
   "cell_type": "code",
   "execution_count": 14,
   "id": "88385b6e",
   "metadata": {
    "slideshow": {
     "slide_type": "fragment"
    }
   },
   "outputs": [
    {
     "name": "stdout",
     "output_type": "stream",
     "text": [
      "Oops, key not found\n",
      "End of the program\n"
     ]
    }
   ],
   "source": [
    "experiment_info = {\"experiment\": \"exp1\", \"description\": \"Phospho project\"}  \n",
    "try:\n",
    "    experiment_info[\"date\"]\n",
    "except KeyError:\n",
    "    print('Oops, key not found')\n",
    "print('End of the program')"
   ]
  },
  {
   "cell_type": "code",
   "execution_count": 15,
   "id": "6db83076",
   "metadata": {
    "slideshow": {
     "slide_type": "fragment"
    }
   },
   "outputs": [
    {
     "ename": "KeyError",
     "evalue": "'date'",
     "output_type": "error",
     "traceback": [
      "\u001b[0;31m---------------------------------------------------------------------------\u001b[0m",
      "\u001b[0;31mKeyError\u001b[0m                                  Traceback (most recent call last)",
      "\u001b[0;32m/var/folders/rf/jnkv3x4d1_10ccxmsknwnc100000gn/T/ipykernel_4832/609282195.py\u001b[0m in \u001b[0;36m<module>\u001b[0;34m\u001b[0m\n\u001b[1;32m      1\u001b[0m \u001b[0mexperiment_info\u001b[0m \u001b[0;34m=\u001b[0m \u001b[0;34m{\u001b[0m\u001b[0;34m\"experiment\"\u001b[0m\u001b[0;34m:\u001b[0m \u001b[0;34m\"exp1\"\u001b[0m\u001b[0;34m,\u001b[0m \u001b[0;34m\"description\"\u001b[0m\u001b[0;34m:\u001b[0m \u001b[0;34m\"Phospho project\"\u001b[0m\u001b[0;34m}\u001b[0m\u001b[0;34m\u001b[0m\u001b[0;34m\u001b[0m\u001b[0m\n\u001b[1;32m      2\u001b[0m \u001b[0;32mtry\u001b[0m\u001b[0;34m:\u001b[0m\u001b[0;34m\u001b[0m\u001b[0;34m\u001b[0m\u001b[0m\n\u001b[0;32m----> 3\u001b[0;31m     \u001b[0mexperiment_info\u001b[0m\u001b[0;34m[\u001b[0m\u001b[0;34m\"date\"\u001b[0m\u001b[0;34m]\u001b[0m\u001b[0;34m\u001b[0m\u001b[0;34m\u001b[0m\u001b[0m\n\u001b[0m\u001b[1;32m      4\u001b[0m \u001b[0;32mexcept\u001b[0m \u001b[0mValueError\u001b[0m\u001b[0;34m:\u001b[0m\u001b[0;34m\u001b[0m\u001b[0;34m\u001b[0m\u001b[0m\n\u001b[1;32m      5\u001b[0m     \u001b[0mprint\u001b[0m\u001b[0;34m(\u001b[0m\u001b[0;34m'Oops, key not found'\u001b[0m\u001b[0;34m)\u001b[0m\u001b[0;34m\u001b[0m\u001b[0;34m\u001b[0m\u001b[0m\n",
      "\u001b[0;31mKeyError\u001b[0m: 'date'"
     ]
    }
   ],
   "source": [
    "experiment_info = {\"experiment\": \"exp1\", \"description\": \"Phospho project\"}  \n",
    "try:\n",
    "    experiment_info[\"date\"]\n",
    "except ValueError:\n",
    "    print('Oops, key not found')\n",
    "print('End of the program')"
   ]
  },
  {
   "cell_type": "markdown",
   "id": "aecab201",
   "metadata": {
    "slideshow": {
     "slide_type": "subslide"
    }
   },
   "source": [
    "<img src=\"https://i.gyazo.com/6c361982e1d72df6d226daec076c4aab.png\" width=\"1200\" height=\"600\" />"
   ]
  },
  {
   "cell_type": "code",
   "execution_count": 16,
   "id": "5c849617",
   "metadata": {
    "slideshow": {
     "slide_type": "subslide"
    }
   },
   "outputs": [
    {
     "name": "stdout",
     "output_type": "stream",
     "text": [
      "Key or index not found\n"
     ]
    }
   ],
   "source": [
    "def get_element(collection: dict or list, place: str or int):  \n",
    "    try:  \n",
    "        return collection[place]\n",
    "    except LookupError:  \n",
    "        print(\"Key or index not found\") \n",
    "        \n",
    "get_element(experiment_info, 'date')"
   ]
  },
  {
   "cell_type": "code",
   "execution_count": 17,
   "id": "c9a1d8d2",
   "metadata": {
    "slideshow": {
     "slide_type": "fragment"
    }
   },
   "outputs": [
    {
     "name": "stdout",
     "output_type": "stream",
     "text": [
      "Key or index not found\n"
     ]
    }
   ],
   "source": [
    "experiments = [\"experiment_1\", \"experiment_2\", \"experiment_3\"]\n",
    "get_element(experiments, 3)"
   ]
  },
  {
   "cell_type": "code",
   "execution_count": 19,
   "id": "2aea4da3",
   "metadata": {
    "slideshow": {
     "slide_type": "subslide"
    }
   },
   "outputs": [
    {
     "name": "stdout",
     "output_type": "stream",
     "text": [
      "Mail to administrator has been sent about 'date'\n"
     ]
    },
    {
     "ename": "KeyError",
     "evalue": "'date'",
     "output_type": "error",
     "traceback": [
      "\u001b[0;31m---------------------------------------------------------------------------\u001b[0m",
      "\u001b[0;31mKeyError\u001b[0m                                  Traceback (most recent call last)",
      "\u001b[0;32m/var/folders/rf/jnkv3x4d1_10ccxmsknwnc100000gn/T/ipykernel_4832/597858171.py\u001b[0m in \u001b[0;36m<module>\u001b[0;34m\u001b[0m\n\u001b[1;32m      9\u001b[0m         \u001b[0;32mraise\u001b[0m \u001b[0merror\u001b[0m\u001b[0;34m\u001b[0m\u001b[0;34m\u001b[0m\u001b[0m\n\u001b[1;32m     10\u001b[0m \u001b[0;34m\u001b[0m\u001b[0m\n\u001b[0;32m---> 11\u001b[0;31m \u001b[0mget_element\u001b[0m\u001b[0;34m(\u001b[0m\u001b[0mexperiment_info\u001b[0m\u001b[0;34m,\u001b[0m \u001b[0;34m'date'\u001b[0m\u001b[0;34m)\u001b[0m\u001b[0;34m\u001b[0m\u001b[0;34m\u001b[0m\u001b[0m\n\u001b[0m",
      "\u001b[0;32m/var/folders/rf/jnkv3x4d1_10ccxmsknwnc100000gn/T/ipykernel_4832/597858171.py\u001b[0m in \u001b[0;36mget_element\u001b[0;34m(collection, place)\u001b[0m\n\u001b[1;32m      7\u001b[0m     \u001b[0;32mexcept\u001b[0m \u001b[0mException\u001b[0m \u001b[0;32mas\u001b[0m \u001b[0merror\u001b[0m\u001b[0;34m:\u001b[0m\u001b[0;34m\u001b[0m\u001b[0;34m\u001b[0m\u001b[0m\n\u001b[1;32m      8\u001b[0m         \u001b[0mnotify_admin\u001b[0m\u001b[0;34m(\u001b[0m\u001b[0merror\u001b[0m\u001b[0;34m)\u001b[0m\u001b[0;34m\u001b[0m\u001b[0;34m\u001b[0m\u001b[0m\n\u001b[0;32m----> 9\u001b[0;31m         \u001b[0;32mraise\u001b[0m \u001b[0merror\u001b[0m\u001b[0;34m\u001b[0m\u001b[0;34m\u001b[0m\u001b[0m\n\u001b[0m\u001b[1;32m     10\u001b[0m \u001b[0;34m\u001b[0m\u001b[0m\n\u001b[1;32m     11\u001b[0m \u001b[0mget_element\u001b[0m\u001b[0;34m(\u001b[0m\u001b[0mexperiment_info\u001b[0m\u001b[0;34m,\u001b[0m \u001b[0;34m'date'\u001b[0m\u001b[0;34m)\u001b[0m\u001b[0;34m\u001b[0m\u001b[0;34m\u001b[0m\u001b[0m\n",
      "\u001b[0;32m/var/folders/rf/jnkv3x4d1_10ccxmsknwnc100000gn/T/ipykernel_4832/597858171.py\u001b[0m in \u001b[0;36mget_element\u001b[0;34m(collection, place)\u001b[0m\n\u001b[1;32m      4\u001b[0m \u001b[0;32mdef\u001b[0m \u001b[0mget_element\u001b[0m\u001b[0;34m(\u001b[0m\u001b[0mcollection\u001b[0m\u001b[0;34m,\u001b[0m \u001b[0mplace\u001b[0m\u001b[0;34m)\u001b[0m\u001b[0;34m:\u001b[0m\u001b[0;34m\u001b[0m\u001b[0;34m\u001b[0m\u001b[0m\n\u001b[1;32m      5\u001b[0m     \u001b[0;32mtry\u001b[0m\u001b[0;34m:\u001b[0m\u001b[0;34m\u001b[0m\u001b[0;34m\u001b[0m\u001b[0m\n\u001b[0;32m----> 6\u001b[0;31m         \u001b[0;32mreturn\u001b[0m \u001b[0mcollection\u001b[0m\u001b[0;34m[\u001b[0m\u001b[0mplace\u001b[0m\u001b[0;34m]\u001b[0m\u001b[0;34m\u001b[0m\u001b[0;34m\u001b[0m\u001b[0m\n\u001b[0m\u001b[1;32m      7\u001b[0m     \u001b[0;32mexcept\u001b[0m \u001b[0mException\u001b[0m \u001b[0;32mas\u001b[0m \u001b[0merror\u001b[0m\u001b[0;34m:\u001b[0m\u001b[0;34m\u001b[0m\u001b[0;34m\u001b[0m\u001b[0m\n\u001b[1;32m      8\u001b[0m         \u001b[0mnotify_admin\u001b[0m\u001b[0;34m(\u001b[0m\u001b[0merror\u001b[0m\u001b[0;34m)\u001b[0m\u001b[0;34m\u001b[0m\u001b[0;34m\u001b[0m\u001b[0m\n",
      "\u001b[0;31mKeyError\u001b[0m: 'date'"
     ]
    }
   ],
   "source": [
    "def notify_admin(error):  \n",
    "    print(\"Mail to administrator has been sent about\", error)  \n",
    "\n",
    "def get_element(collection, place):  \n",
    "    try:  \n",
    "        return collection[place]\n",
    "    except Exception as error:  \n",
    "        notify_admin(error)\n",
    "        raise error\n",
    "        \n",
    "get_element(experiment_info, 'date')"
   ]
  },
  {
   "cell_type": "code",
   "execution_count": 20,
   "id": "778652a8",
   "metadata": {
    "slideshow": {
     "slide_type": "subslide"
    }
   },
   "outputs": [
    {
     "name": "stdout",
     "output_type": "stream",
     "text": [
      "Can't convert data to float\n",
      "File is closed\n"
     ]
    }
   ],
   "source": [
    "try:  \n",
    "    # open the file and read the first line\n",
    "    data_file = open(\"metadata.txt\", 'r')  \n",
    "    s = data_file.readline()  \n",
    "    # try to change the type \n",
    "    i = float(s.strip())  \n",
    "except ValueError:  \n",
    "    # if the first line can't be converted to the float type: ValueError  \n",
    "    print(\"Can't convert data to float\") \n",
    "except OSError as err:  \n",
    "    # if file is missing: OSError   \n",
    "    print(f\"OS error: {err}\")  \n",
    "else:\n",
    "    print(\"Nothing went wrong\")\n",
    "finally:\n",
    "    data_file.close()\n",
    "    print('File is closed')"
   ]
  },
  {
   "cell_type": "markdown",
   "id": "93c3cc77",
   "metadata": {
    "slideshow": {
     "slide_type": "skip"
    }
   },
   "source": [
    "## Debugging\n",
    "\n",
    "- print statements\n",
    "- pdb debugger"
   ]
  },
  {
   "cell_type": "code",
   "execution_count": null,
   "id": "292fc5a6",
   "metadata": {
    "slideshow": {
     "slide_type": "skip"
    }
   },
   "outputs": [],
   "source": [
    "x = 3\n",
    "y = -22\n",
    "\n",
    "def f(z):\n",
    "    x = z + 10\n",
    "    return x\n",
    "\n",
    "print(y)\n",
    "y = f(x)\n",
    "print(y)"
   ]
  },
  {
   "cell_type": "code",
   "execution_count": null,
   "id": "700f0c62",
   "metadata": {
    "slideshow": {
     "slide_type": "skip"
    }
   },
   "outputs": [],
   "source": [
    "import pdb  \n",
    "\n",
    "x = 3\n",
    "y = -22\n",
    "\n",
    "def f(z):\n",
    "    x = z + 10\n",
    "    pdb.set_trace()\n",
    "    return x\n",
    "\n",
    "y = f(x)"
   ]
  },
  {
   "cell_type": "markdown",
   "id": "1a89f895",
   "metadata": {
    "slideshow": {
     "slide_type": "notes"
    }
   },
   "source": [
    "locals()\n",
    "next\n",
    "return \n",
    "continue\n",
    "x OR p x"
   ]
  },
  {
   "cell_type": "code",
   "execution_count": 47,
   "id": "12e79397",
   "metadata": {
    "slideshow": {
     "slide_type": "skip"
    }
   },
   "outputs": [
    {
     "ename": "SyntaxError",
     "evalue": "invalid syntax (3085325471.py, line 4)",
     "output_type": "error",
     "traceback": [
      "\u001b[0;36m  File \u001b[0;32m\"/var/folders/rf/jnkv3x4d1_10ccxmsknwnc100000gn/T/ipykernel_4832/3085325471.py\"\u001b[0;36m, line \u001b[0;32m4\u001b[0m\n\u001b[0;31m    z: 3\u001b[0m\n\u001b[0m    ^\u001b[0m\n\u001b[0;31mSyntaxError\u001b[0m\u001b[0;31m:\u001b[0m invalid syntax\n"
     ]
    }
   ],
   "source": [
    "items = {\n",
    "    x: 1,    \n",
    "    y: 2    \n",
    "    z: 3\n",
    "}\n",
    "\n",
    "# here we get a SyntaxError: invalid syntax and sometimes it could be hard to understand where the problem is. \n",
    "# It should be improved in a new Python version 3.10 - https://docs.python.org/3/whatsnew/3.10.html#better-error-messages."
   ]
  },
  {
   "cell_type": "markdown",
   "id": "3d9e16dc",
   "metadata": {
    "slideshow": {
     "slide_type": "slide"
    }
   },
   "source": [
    "## Automated testing"
   ]
  },
  {
   "cell_type": "markdown",
   "id": "d4d4c532",
   "metadata": {
    "slideshow": {
     "slide_type": "slide"
    }
   },
   "source": [
    "<img src=\"https://i.gyazo.com/b975f4bf033ad01502a1f7dd94fbc68c.png\" width=\"1200\" height=\"600\" />"
   ]
  },
  {
   "cell_type": "markdown",
   "id": "098eebce",
   "metadata": {
    "slideshow": {
     "slide_type": "slide"
    }
   },
   "source": [
    "<img src=\"https://i.gyazo.com/902cf29c2fc7099c674a3686a4efa2e3.png\" width=\"1200\" height=\"600\" />"
   ]
  },
  {
   "cell_type": "markdown",
   "id": "bc8e6b5e",
   "metadata": {
    "slideshow": {
     "slide_type": "slide"
    }
   },
   "source": [
    "<img src=\"https://i.gyazo.com/8590cb2e16f49ef4969b6c6125327fb7.png\" width=\"1200\" height=\"600\" />"
   ]
  },
  {
   "cell_type": "markdown",
   "id": "d0940235",
   "metadata": {
    "slideshow": {
     "slide_type": "notes"
    }
   },
   "source": [
    "You don’t have to deal with any imports or classes. Because you can use the assert keyword, you don’t need to learn or remember all the different self.assert* methods in unittest, either. If you can write an expression that you expect to evaluate to True, then pytest will test it for you. \n"
   ]
  },
  {
   "cell_type": "markdown",
   "id": "3f62d0b6",
   "metadata": {
    "slideshow": {
     "slide_type": "subslide"
    }
   },
   "source": [
    "### Theoretical structure of an assertion"
   ]
  },
  {
   "cell_type": "code",
   "execution_count": 23,
   "id": "440285b6",
   "metadata": {
    "slideshow": {
     "slide_type": "fragment"
    }
   },
   "outputs": [],
   "source": [
    "assert 'any boolean expression'\n",
    "# assert True"
   ]
  },
  {
   "cell_type": "code",
   "execution_count": 22,
   "id": "d03c147a",
   "metadata": {
    "slideshow": {
     "slide_type": "fragment"
    }
   },
   "outputs": [
    {
     "ename": "AssertionError",
     "evalue": "",
     "output_type": "error",
     "traceback": [
      "\u001b[0;31m---------------------------------------------------------------------------\u001b[0m",
      "\u001b[0;31mAssertionError\u001b[0m                            Traceback (most recent call last)",
      "\u001b[0;32m/var/folders/rf/jnkv3x4d1_10ccxmsknwnc100000gn/T/ipykernel_4832/2103537015.py\u001b[0m in \u001b[0;36m<module>\u001b[0;34m\u001b[0m\n\u001b[0;32m----> 1\u001b[0;31m \u001b[0;32massert\u001b[0m \u001b[0;32mFalse\u001b[0m\u001b[0;34m\u001b[0m\u001b[0;34m\u001b[0m\u001b[0m\n\u001b[0m",
      "\u001b[0;31mAssertionError\u001b[0m: "
     ]
    }
   ],
   "source": [
    "assert False"
   ]
  },
  {
   "cell_type": "markdown",
   "id": "6da2d086",
   "metadata": {
    "slideshow": {
     "slide_type": "subslide"
    }
   },
   "source": [
    "## assert result == expected\n",
    "\n",
    "* works for builtin types"
   ]
  },
  {
   "cell_type": "code",
   "execution_count": 24,
   "id": "e8cae9e8",
   "metadata": {
    "slideshow": {
     "slide_type": "fragment"
    }
   },
   "outputs": [
    {
     "ename": "AssertionError",
     "evalue": "",
     "output_type": "error",
     "traceback": [
      "\u001b[0;31m---------------------------------------------------------------------------\u001b[0m",
      "\u001b[0;31mAssertionError\u001b[0m                            Traceback (most recent call last)",
      "\u001b[0;32m/var/folders/rf/jnkv3x4d1_10ccxmsknwnc100000gn/T/ipykernel_4832/3737346062.py\u001b[0m in \u001b[0;36m<module>\u001b[0;34m\u001b[0m\n\u001b[1;32m      4\u001b[0m \u001b[0;31m# assert 5 > 3 # Success Example\u001b[0m\u001b[0;34m\u001b[0m\u001b[0;34m\u001b[0m\u001b[0;34m\u001b[0m\u001b[0m\n\u001b[1;32m      5\u001b[0m \u001b[0;34m\u001b[0m\u001b[0m\n\u001b[0;32m----> 6\u001b[0;31m \u001b[0;32massert\u001b[0m \u001b[0;36m5\u001b[0m \u001b[0;34m==\u001b[0m \u001b[0;36m3\u001b[0m \u001b[0;31m# Fail Example\u001b[0m\u001b[0;34m\u001b[0m\u001b[0;34m\u001b[0m\u001b[0m\n\u001b[0m\u001b[1;32m      7\u001b[0m \u001b[0;31m# assert 5 > 7 # Fail Example\u001b[0m\u001b[0;34m\u001b[0m\u001b[0;34m\u001b[0m\u001b[0;34m\u001b[0m\u001b[0m\n",
      "\u001b[0;31mAssertionError\u001b[0m: "
     ]
    }
   ],
   "source": [
    "# Compare two values\n",
    "\n",
    "assert 5 == 5 # Success Example\n",
    "# assert 5 > 3 # Success Example\n",
    "\n",
    "assert 5 == 3 # Fail Example\n",
    "# assert 5 > 7 # Fail Example"
   ]
  },
  {
   "cell_type": "code",
   "execution_count": null,
   "id": "f87d2725",
   "metadata": {
    "slideshow": {
     "slide_type": "fragment"
    }
   },
   "outputs": [],
   "source": [
    "# Check the type of object\n",
    "\n",
    "assert type(5) is int # Success Example\n",
    "assert isinstance('5', str) # Success Example\n",
    "\n",
    "assert type(5) is not int # Fail Example\n",
    "assert isinstance('5', int) # Fail Example"
   ]
  },
  {
   "cell_type": "code",
   "execution_count": null,
   "id": "16d57537",
   "metadata": {
    "slideshow": {
     "slide_type": "subslide"
    }
   },
   "outputs": [],
   "source": [
    "# Whether the value is present\n",
    "\n",
    "list_one=[1,3,5,6]\n",
    "\n",
    "assert 5 in list_one # Success Example\n",
    "assert 5 not in list_one # Fail Example"
   ]
  },
  {
   "cell_type": "code",
   "execution_count": null,
   "id": "1b010b39",
   "metadata": {
    "slideshow": {
     "slide_type": "fragment"
    }
   },
   "outputs": [],
   "source": [
    "# Any() and all() assert statements\n",
    "\n",
    "example = [5,3,1,6,6]\n",
    "booleans = [False, False,True, False]\n",
    "\n",
    "assert any(example) == True # Success Example\n",
    "assert any(booleans) == True # Success Example\n",
    "\n",
    "assert all(example) # Success Example\n",
    "assert all(booleans) # Fail Example"
   ]
  },
  {
   "cell_type": "code",
   "execution_count": null,
   "id": "0cde4725",
   "metadata": {
    "slideshow": {
     "slide_type": "fragment"
    }
   },
   "outputs": [],
   "source": [
    "# Use the complex statements\n",
    "\n",
    "assert any(example) == True and any(booleans) == True # Success Example\n",
    "\n",
    "assert all(example) and all(booleans) # Fail Example"
   ]
  },
  {
   "cell_type": "code",
   "execution_count": null,
   "id": "23ea1f2e",
   "metadata": {
    "slideshow": {
     "slide_type": "skip"
    }
   },
   "outputs": [],
   "source": [
    "# some tip\n",
    "\n",
    "a = []\n",
    "b = []"
   ]
  },
  {
   "cell_type": "code",
   "execution_count": null,
   "id": "7554c3c2",
   "metadata": {
    "slideshow": {
     "slide_type": "skip"
    }
   },
   "outputs": [],
   "source": [
    "a == b"
   ]
  },
  {
   "cell_type": "code",
   "execution_count": null,
   "id": "66ca603b",
   "metadata": {
    "scrolled": true,
    "slideshow": {
     "slide_type": "skip"
    }
   },
   "outputs": [],
   "source": [
    "a is b"
   ]
  },
  {
   "cell_type": "code",
   "execution_count": null,
   "id": "fa20c3cf",
   "metadata": {
    "slideshow": {
     "slide_type": "skip"
    }
   },
   "outputs": [],
   "source": [
    "a = None\n",
    "# use\n",
    "assert a is None\n",
    "# don't use\n",
    "assert a == None\n",
    "### from PEP8: Comparisons to singletons like None should always be done with is or is not, \n",
    "# never the equality operators."
   ]
  },
  {
   "cell_type": "markdown",
   "id": "d02c067e",
   "metadata": {
    "slideshow": {
     "slide_type": "slide"
    }
   },
   "source": [
    "## Testing with NumPy and Pandas"
   ]
  },
  {
   "cell_type": "markdown",
   "id": "ab518220",
   "metadata": {
    "slideshow": {
     "slide_type": "subslide"
    }
   },
   "source": [
    "### Numpy\n",
    "\n",
    "includes a separate module for testing"
   ]
  },
  {
   "cell_type": "code",
   "execution_count": 25,
   "id": "31d700bd",
   "metadata": {
    "slideshow": {
     "slide_type": "fragment"
    }
   },
   "outputs": [],
   "source": [
    "import numpy as np\n",
    "\n",
    "arr1 = np.arange(10)\n",
    "arr2 = np.arange(10)"
   ]
  },
  {
   "cell_type": "code",
   "execution_count": 27,
   "id": "91e32b01",
   "metadata": {
    "slideshow": {
     "slide_type": "fragment"
    }
   },
   "outputs": [
    {
     "data": {
      "text/plain": [
       "array([ True,  True,  True,  True,  True,  True,  True,  True,  True,\n",
       "        True])"
      ]
     },
     "execution_count": 27,
     "metadata": {},
     "output_type": "execute_result"
    }
   ],
   "source": [
    "# assert \n",
    "arr1 == arr2"
   ]
  },
  {
   "cell_type": "code",
   "execution_count": 29,
   "id": "a4bc7ef9",
   "metadata": {
    "slideshow": {
     "slide_type": "fragment"
    }
   },
   "outputs": [],
   "source": [
    "assert (arr1 == arr2).all()"
   ]
  },
  {
   "cell_type": "code",
   "execution_count": 30,
   "id": "4277656e",
   "metadata": {
    "slideshow": {
     "slide_type": "fragment"
    }
   },
   "outputs": [],
   "source": [
    "np.testing.assert_array_equal(arr1, arr2)"
   ]
  },
  {
   "cell_type": "code",
   "execution_count": null,
   "id": "2db7b594",
   "metadata": {
    "slideshow": {
     "slide_type": "subslide"
    }
   },
   "outputs": [],
   "source": [
    "def test_succeeding():\n",
    "    np.testing.assert_almost_equal(1, 0.9999999999999)\n",
    "\n",
    "def test_failing():\n",
    "    np.testing.assert_almost_equal(1, 0.9)\n",
    "    \n",
    "test_succeeding()\n",
    "# test_failing()"
   ]
  },
  {
   "cell_type": "code",
   "execution_count": 32,
   "id": "39d12d6d",
   "metadata": {
    "slideshow": {
     "slide_type": "fragment"
    }
   },
   "outputs": [],
   "source": [
    "# float type\n",
    "\n",
    "np.testing.assert_array_equal([np.pi], [np.sqrt(np.pi) ** 2])"
   ]
  },
  {
   "cell_type": "code",
   "execution_count": 33,
   "id": "5a07ae22",
   "metadata": {
    "slideshow": {
     "slide_type": "fragment"
    }
   },
   "outputs": [],
   "source": [
    "np.testing.assert_allclose([np.pi], [np.sqrt(np.pi) ** 2])"
   ]
  },
  {
   "cell_type": "code",
   "execution_count": 34,
   "id": "b22f151b",
   "metadata": {
    "slideshow": {
     "slide_type": "fragment"
    }
   },
   "outputs": [],
   "source": [
    "import pytest\n",
    "\n",
    "assert [np.pi] == pytest.approx([np.sqrt(np.pi) ** 2])"
   ]
  },
  {
   "cell_type": "markdown",
   "id": "e51281fb",
   "metadata": {
    "slideshow": {
     "slide_type": "slide"
    }
   },
   "source": [
    "<img src=\"https://i.gyazo.com/a1e13b7e89d1d1cb3f72557cbe064dbc.png\" width=\"1200\" height=\"600\" />"
   ]
  },
  {
   "cell_type": "markdown",
   "id": "7e848a0e",
   "metadata": {
    "slideshow": {
     "slide_type": "slide"
    }
   },
   "source": [
    "<img src=\"https://i.gyazo.com/926e6b512e363332f57473b275d1dfdd.png\" width=\"1200\" height=\"600\" />"
   ]
  },
  {
   "cell_type": "markdown",
   "id": "5603d51a",
   "metadata": {
    "slideshow": {
     "slide_type": "slide"
    }
   },
   "source": [
    "<img src=\"https://i.gyazo.com/4710890d3940a43d4fee0758e8e492f0.png\" width=\"1200\" height=\"600\" />"
   ]
  },
  {
   "cell_type": "markdown",
   "id": "1606cb69",
   "metadata": {
    "slideshow": {
     "slide_type": "slide"
    }
   },
   "source": [
    "<img src=\"https://i.gyazo.com/5cc444f866933ffe7ea4c0d0583c8dca.png\" width=\"1200\" height=\"600\" />"
   ]
  },
  {
   "cell_type": "code",
   "execution_count": null,
   "id": "a2f5156e",
   "metadata": {
    "slideshow": {
     "slide_type": "skip"
    }
   },
   "outputs": [],
   "source": [
    "#!pip install ipytest\n",
    "\n",
    "# https://github.com/chmp/ipytest"
   ]
  },
  {
   "cell_type": "code",
   "execution_count": 35,
   "id": "644ea709",
   "metadata": {
    "slideshow": {
     "slide_type": "subslide"
    }
   },
   "outputs": [],
   "source": [
    "import ipytest\n",
    "import pandas as pd\n",
    "import pytest\n",
    "import os\n",
    "\n",
    "ipytest.autoconfig()\n",
    "# enable pytest's assertions\n",
    "ipytest.config.rewrite_asserts = True\n",
    "\n",
    "__file__ = 'Software_testing.ipynb'"
   ]
  },
  {
   "cell_type": "markdown",
   "id": "fe27bdb3",
   "metadata": {
    "slideshow": {
     "slide_type": "slide"
    }
   },
   "source": [
    "## Fixtures"
   ]
  },
  {
   "cell_type": "code",
   "execution_count": 36,
   "id": "5ed418eb",
   "metadata": {
    "slideshow": {
     "slide_type": "subslide"
    }
   },
   "outputs": [
    {
     "data": {
      "text/html": [
       "<div>\n",
       "<style scoped>\n",
       "    .dataframe tbody tr th:only-of-type {\n",
       "        vertical-align: middle;\n",
       "    }\n",
       "\n",
       "    .dataframe tbody tr th {\n",
       "        vertical-align: top;\n",
       "    }\n",
       "\n",
       "    .dataframe thead th {\n",
       "        text-align: right;\n",
       "    }\n",
       "</style>\n",
       "<table border=\"1\" class=\"dataframe\">\n",
       "  <thead>\n",
       "    <tr style=\"text-align: right;\">\n",
       "      <th></th>\n",
       "      <th>Experiment</th>\n",
       "      <th>Proteins_count</th>\n",
       "    </tr>\n",
       "  </thead>\n",
       "  <tbody>\n",
       "    <tr>\n",
       "      <th>0</th>\n",
       "      <td>exp1</td>\n",
       "      <td>6916</td>\n",
       "    </tr>\n",
       "    <tr>\n",
       "      <th>1</th>\n",
       "      <td>exp2</td>\n",
       "      <td>6273</td>\n",
       "    </tr>\n",
       "    <tr>\n",
       "      <th>2</th>\n",
       "      <td>exp3</td>\n",
       "      <td>6564</td>\n",
       "    </tr>\n",
       "    <tr>\n",
       "      <th>3</th>\n",
       "      <td>exp4</td>\n",
       "      <td>6829</td>\n",
       "    </tr>\n",
       "    <tr>\n",
       "      <th>4</th>\n",
       "      <td>exp5</td>\n",
       "      <td>6940</td>\n",
       "    </tr>\n",
       "  </tbody>\n",
       "</table>\n",
       "</div>"
      ],
      "text/plain": [
       "  Experiment  Proteins_count\n",
       "0       exp1            6916\n",
       "1       exp2            6273\n",
       "2       exp3            6564\n",
       "3       exp4            6829\n",
       "4       exp5            6940"
      ]
     },
     "execution_count": 36,
     "metadata": {},
     "output_type": "execute_result"
    }
   ],
   "source": [
    "pd.DataFrame(\n",
    "    data={\n",
    "        'Experiment': [f\"exp{i}\"for i in range(1, 6)],\n",
    "        'Proteins_count': [6916, 6273, 6564, 6829, 6940]\n",
    "    }\n",
    ")"
   ]
  },
  {
   "cell_type": "code",
   "execution_count": 37,
   "id": "3fad2537",
   "metadata": {
    "slideshow": {
     "slide_type": "fragment"
    }
   },
   "outputs": [],
   "source": [
    "@pytest.fixture(scope='function')\n",
    "def example_dataframe():\n",
    "    return pd.DataFrame(\n",
    "        data={ \n",
    "            'Experiment': [f\"exp{i}\"for i in range(1, 6)],\n",
    "            'Proteins_count': [6916, 6273, 6564, 6829, 6940]\n",
    "        }\n",
    "    )"
   ]
  },
  {
   "cell_type": "code",
   "execution_count": 39,
   "id": "79a04061",
   "metadata": {
    "slideshow": {
     "slide_type": "subslide"
    }
   },
   "outputs": [
    {
     "name": "stdout",
     "output_type": "stream",
     "text": [
      "\u001b[32m.\u001b[0m\u001b[32m                                                                                            [100%]\u001b[0m\n"
     ]
    }
   ],
   "source": [
    "%%ipytest -s -qq\n",
    "\n",
    "def test_example_dataframe(example_dataframe):\n",
    "    print(example_dataframe.head())\n",
    "    assert example_dataframe.Experiment.shape[0] == 5"
   ]
  },
  {
   "cell_type": "code",
   "execution_count": 40,
   "id": "09aa4e37",
   "metadata": {
    "slideshow": {
     "slide_type": "subslide"
    }
   },
   "outputs": [
    {
     "name": "stdout",
     "output_type": "stream",
     "text": [
      "\u001b[31mF\u001b[0m\u001b[32m.\u001b[0m\u001b[32m.\u001b[0m\n",
      "============================================= FAILURES =============================================\n",
      "\u001b[31m\u001b[1m__________________________________________ test_dataframe __________________________________________\u001b[0m\n",
      "\n",
      "example_dataframe =   Experiment  Proteins_count\n",
      "0       exp1            6916\n",
      "1       exp2            6273\n",
      "2       exp3            6564\n",
      "3       exp4            6829\n",
      "4       exp5            6940\n",
      "\n",
      "    \u001b[94mdef\u001b[39;49;00m \u001b[92mtest_dataframe\u001b[39;49;00m(example_dataframe):\n",
      ">       \u001b[94massert\u001b[39;49;00m example_dataframe.Experiment.shape[\u001b[94m0\u001b[39;49;00m] == \u001b[94m6\u001b[39;49;00m\n",
      "\u001b[1m\u001b[31mE       assert 5 == 6\u001b[0m\n",
      "\n",
      "\u001b[1m\u001b[31m/var/folders/rf/jnkv3x4d1_10ccxmsknwnc100000gn/T/ipykernel_4832/3474112775.py\u001b[0m:2: AssertionError\n",
      "===================================== short test summary info ======================================\n",
      "FAILED tmporx73x2r.py::test_dataframe - assert 5 == 6\n",
      "\u001b[31m\u001b[31m\u001b[1m1 failed\u001b[0m, \u001b[32m2 passed\u001b[0m\u001b[31m in 0.13s\u001b[0m\u001b[0m\n"
     ]
    }
   ],
   "source": [
    "%%ipytest -s\n",
    "\n",
    "def test_dataframe(example_dataframe):\n",
    "    assert example_dataframe.Experiment.shape[0] == 6\n",
    "    \n",
    "def test_proteins_sum(example_dataframe):\n",
    "    assert example_dataframe.Proteins_count.sum() == 33522\n",
    "    \n",
    "def test_proteins_mean(example_dataframe):\n",
    "    assert example_dataframe.Proteins_count.mean() == 6704.4"
   ]
  },
  {
   "cell_type": "markdown",
   "id": "be36c37b",
   "metadata": {
    "slideshow": {
     "slide_type": "slide"
    }
   },
   "source": [
    "## Parametrized tests"
   ]
  },
  {
   "cell_type": "code",
   "execution_count": 41,
   "id": "06ebe894",
   "metadata": {
    "slideshow": {
     "slide_type": "subslide"
    }
   },
   "outputs": [],
   "source": [
    "def my_func(x):\n",
    "    return x // 2 * 2"
   ]
  },
  {
   "cell_type": "code",
   "execution_count": 43,
   "id": "3d864589",
   "metadata": {
    "slideshow": {
     "slide_type": "fragment"
    }
   },
   "outputs": [
    {
     "name": "stdout",
     "output_type": "stream",
     "text": [
      "\u001b[32m.\u001b[0m\u001b[32m                                                                                            [100%]\u001b[0m\n"
     ]
    }
   ],
   "source": [
    "%%ipytest -qq\n",
    "\n",
    "def test_my_func_whole_numbers():\n",
    "    assert my_func(0) == 0\n",
    "    assert my_func(1) == 0\n",
    "    assert my_func(2) == 2\n",
    "    assert my_func(3) == 2"
   ]
  },
  {
   "cell_type": "code",
   "execution_count": 45,
   "id": "5b122bb6",
   "metadata": {
    "slideshow": {
     "slide_type": "fragment"
    }
   },
   "outputs": [
    {
     "name": "stdout",
     "output_type": "stream",
     "text": [
      "\u001b[31mF\u001b[0m\u001b[32m.\u001b[0m\u001b[32m.\u001b[0m\u001b[32m.\u001b[0m\n",
      "============================================= FAILURES =============================================\n",
      "\u001b[31m\u001b[1m__________________________________ test_my_func_parametrized[0-1] __________________________________\u001b[0m\n",
      "\n",
      "input = 0, expected = 1\n",
      "\n",
      "    \u001b[37m@pytest\u001b[39;49;00m.mark.parametrize(\n",
      "        \u001b[33m'\u001b[39;49;00m\u001b[33minput,expected\u001b[39;49;00m\u001b[33m'\u001b[39;49;00m,\n",
      "        [(\u001b[94m0\u001b[39;49;00m,\u001b[94m1\u001b[39;49;00m), (\u001b[94m1\u001b[39;49;00m,\u001b[94m0\u001b[39;49;00m), (\u001b[94m2\u001b[39;49;00m,\u001b[94m2\u001b[39;49;00m), (\u001b[94m3\u001b[39;49;00m,\u001b[94m2\u001b[39;49;00m)]\n",
      "    )\n",
      "    \u001b[94mdef\u001b[39;49;00m \u001b[92mtest_my_func_parametrized\u001b[39;49;00m(\u001b[96minput\u001b[39;49;00m, expected):\n",
      "    \u001b[90m#     print(input, expected)\u001b[39;49;00m\n",
      "    \u001b[90m#     message = f'my_func({input}) should return {expected}, but it actually returns {my_func(input)}'\u001b[39;49;00m\n",
      ">       \u001b[94massert\u001b[39;49;00m my_func(\u001b[96minput\u001b[39;49;00m) == expected, \u001b[33mf\u001b[39;49;00m\u001b[33m'\u001b[39;49;00m\u001b[33mmy_func(\u001b[39;49;00m\u001b[33m{\u001b[39;49;00m\u001b[96minput\u001b[39;49;00m\u001b[33m}\u001b[39;49;00m\u001b[33m) should return \u001b[39;49;00m\u001b[33m{\u001b[39;49;00mexpected\u001b[33m}\u001b[39;49;00m\u001b[33m, but it actually returns \u001b[39;49;00m\u001b[33m{\u001b[39;49;00mmy_func(\u001b[96minput\u001b[39;49;00m)\u001b[33m}\u001b[39;49;00m\u001b[33m'\u001b[39;49;00m\n",
      "\u001b[1m\u001b[31mE       AssertionError: my_func(0) should return 1, but it actually returns 0\u001b[0m\n",
      "\u001b[1m\u001b[31mE       assert 0 == 1\u001b[0m\n",
      "\u001b[1m\u001b[31mE        +  where 0 = my_func(0)\u001b[0m\n",
      "\n",
      "\u001b[1m\u001b[31m/var/folders/rf/jnkv3x4d1_10ccxmsknwnc100000gn/T/ipykernel_4832/900163442.py\u001b[0m:8: AssertionError\n",
      "===================================== short test summary info ======================================\n",
      "FAILED tmpz1ofp4mr.py::test_my_func_parametrized[0-1] - AssertionError: my_func(0) should return ...\n"
     ]
    }
   ],
   "source": [
    "%%ipytest -qq -s\n",
    "\n",
    "@pytest.mark.parametrize(\n",
    "    'input,expected',\n",
    "    [(0,1), (1,0), (2,2), (3,2)]\n",
    ")\n",
    "def test_my_func_parametrized(input, expected):\n",
    "#     print(input, expected) \n",
    "#     message = f'my_func({input}) should return {expected}, but it actually returns {my_func(input)}'\n",
    "    assert my_func(input) == expected, f'my_func({input}) should return {expected}, but it actually returns {my_func(input)}'"
   ]
  },
  {
   "cell_type": "code",
   "execution_count": 46,
   "id": "93cfa2c4",
   "metadata": {
    "slideshow": {
     "slide_type": "slide"
    }
   },
   "outputs": [
    {
     "data": {
      "text/plain": [
       "100345234"
      ]
     },
     "execution_count": 46,
     "metadata": {},
     "output_type": "execute_result"
    }
   ],
   "source": [
    "# Test-driven development in practice\n",
    "\n",
    "# We have an idea to write a simple function that converts a string written like \"1,345,234\" to integer 1345234.\n",
    "\n",
    "### BEFORE WRITING OR THINKING ABOUT ANY TESTS: the function\n",
    "def convert_to_int(integer_string_with_commas):\n",
    "    comma_separated_parts = integer_string_with_commas.split(\",\")\n",
    "    integer_string_without_commas = \"\".join(comma_separated_parts)\n",
    "    return int(integer_string_without_commas)\n",
    "        \n",
    "convert_to_int(\"100,345,234\")"
   ]
  },
  {
   "cell_type": "markdown",
   "id": "d0919f2a",
   "metadata": {
    "slideshow": {
     "slide_type": "slide"
    }
   },
   "source": [
    "<img src=\"https://i.gyazo.com/2df8dd0c0d3566b5a3931cb0f2e389f7.png\" width=\"1200\" height=\"600\" />"
   ]
  },
  {
   "cell_type": "markdown",
   "id": "6325864d",
   "metadata": {
    "slideshow": {
     "slide_type": "slide"
    }
   },
   "source": [
    "<img src=\"https://i.gyazo.com/ec4903c879b8d3c17cd43f265469102d.png\" width=\"1200\" height=\"600\" />"
   ]
  },
  {
   "cell_type": "code",
   "execution_count": null,
   "id": "0d92eb64",
   "metadata": {
    "slideshow": {
     "slide_type": "subslide"
    }
   },
   "outputs": [],
   "source": [
    "class TestConvertToInt(object):\n",
    "    # Tests for normal arguments (2-3)\n",
    "    def test_with_no_comma():\n",
    "        actual = convert_to_int(\"756\")\n",
    "        # Complete the assert statement\n",
    "        assert actual == 756, \"Expected: 756, Actual: {0}\".format(actual)\n",
    "\n",
    "    def test_with_one_comma():\n",
    "        actual = convert_to_int(\"2,081\")\n",
    "        # Complete the assert statement\n",
    "        assert actual == 2081, \"Expected: 2081, Actual: {0}\".format(actual)\n",
    "\n",
    "    def test_with_two_commas():\n",
    "        actual = convert_to_int(\"1,034,891\")\n",
    "        # Complete the assert statement\n",
    "        assert actual == 1034891, \"Expected: 1034891, Actual: {0}\".format(actual)\n",
    "\n",
    "    # Tests for bad arguments:\n",
    "    # 1. Arguments that are missing a comma e.g. \"178100,301\".\n",
    "    # 2. Arguments that have the comma in the wrong place e.g. \"12,72,891\".\n",
    "    # 3. Float valued strings e.g. \"23,816.92\".\n",
    "\n",
    "    def test_on_string_with_missing_comma():\n",
    "        actual = convert_to_int(\"178100,301\")\n",
    "        assert actual is None, \"Expected: None, Actual: {0}\".format(actual)\n",
    "\n",
    "    def test_on_string_with_incorrectly_placed_comma():\n",
    "        # Assign to the actual return value for the argument \"12,72,891\"\n",
    "        actual = convert_to_int(\"12,72,891\")\n",
    "        assert actual is None, \"Expected: None, Actual: {0}\".format(actual)\n",
    "\n",
    "    def test_on_float_valued_string():\n",
    "        actual = convert_to_int(\"23,816.92\")\n",
    "        # Complete the assert statement\n",
    "        assert actual is None, \"Expected: None, Actual: {0}\".format(actual)"
   ]
  },
  {
   "cell_type": "code",
   "execution_count": null,
   "id": "ae4c4c2e",
   "metadata": {
    "slideshow": {
     "slide_type": "subslide"
    }
   },
   "outputs": [],
   "source": [
    "### AFTER PREDICTING DIFFERENT TYPES OF ARGUMENTS: the function\n",
    "def convert_to_int(integer_string_with_commas):\n",
    "    comma_separated_parts = integer_string_with_commas.split(\",\")\n",
    "    for i in range(len(comma_separated_parts)):\n",
    "        # Write an if statement for checking missing commas\n",
    "        if len(comma_separated_parts[i]) > 3:\n",
    "            return None\n",
    "        # Write the if statement for incorrectly placed commas\n",
    "        if i != 0 and len(comma_separated_parts[i]) != 3:\n",
    "            return None\n",
    "    integer_string_without_commas = \"\".join(comma_separated_parts)\n",
    "    try:\n",
    "        return int(integer_string_without_commas)\n",
    "    # Fill in with the correct exception for float valued argument strings\n",
    "    except ValueError:\n",
    "        return None"
   ]
  },
  {
   "attachments": {
    "image.png": {
     "image/png": "[encoded data removed]"
    }
   },
   "cell_type": "markdown",
   "id": "80e8ad49",
   "metadata": {
    "slideshow": {
     "slide_type": "slide"
    }
   },
   "source": [
    "## Pytest resource\n",
    "\n",
    "![image.png](attachment:image.png)"
   ]
  },
  {
   "attachments": {},
   "cell_type": "markdown",
   "id": "642041a4",
   "metadata": {
    "slideshow": {
     "slide_type": "slide"
    }
   },
   "source": [
    "<img src=\"https://www.anynode.de/wp-content/uploads/2019/12/Merry-Christmas.png\" width=\"1600\" height=\"1200\" />"
   ]
  },
  {
   "cell_type": "markdown",
   "id": "f50d63e1",
   "metadata": {
    "slideshow": {
     "slide_type": "skip"
    }
   },
   "source": [
    "# Some useful options:\n",
    "- --durations={the most slowest tests}: --durations=3"
   ]
  },
  {
   "cell_type": "code",
   "execution_count": null,
   "id": "79e20df1",
   "metadata": {
    "slideshow": {
     "slide_type": "skip"
    }
   },
   "outputs": [],
   "source": [
    "%%ipytest -qq -s --durations=3\n",
    "\n",
    "def test_dataframe(example_dataframe):\n",
    "    assert example_dataframe.Experiment.shape[0] == 5\n",
    "    \n",
    "def test_sum_proteins(example_dataframe):\n",
    "    assert example_dataframe.Proteins_count.sum() == 33522\n",
    "    \n",
    "def test_mean_proteins_per_experiment(example_dataframe):\n",
    "    assert example_dataframe.Proteins_count.mean() == 6704.4"
   ]
  }
 ],
 "metadata": {
  "celltoolbar": "Slideshow",
  "kernelspec": {
   "display_name": "Python 3 (ipykernel)",
   "language": "python",
   "name": "python3"
  },
  "language_info": {
   "codemirror_mode": {
    "name": "ipython",
    "version": 3
   },
   "file_extension": ".py",
   "mimetype": "text/x-python",
   "name": "python",
   "nbconvert_exporter": "python",
   "pygments_lexer": "ipython3",
   "version": "3.8.12"
  }
 },
 "nbformat": 4,
 "nbformat_minor": 5
}
